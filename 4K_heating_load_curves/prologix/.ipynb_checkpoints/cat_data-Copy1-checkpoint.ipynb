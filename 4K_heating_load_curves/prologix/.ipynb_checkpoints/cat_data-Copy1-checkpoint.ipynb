{
 "cells": [
  {
   "cell_type": "code",
   "execution_count": 132,
   "metadata": {
    "collapsed": true
   },
   "outputs": [],
   "source": [
    "import subprocess as sp\n",
    "import os, time\n",
    "import numpy as np\n",
    "import matplotlib.pyplot as plt\n",
    "\n",
    "%matplotlib inline\n",
    "\n",
    "def formatDataStr(data):\n",
    "    dataStr = []\n",
    "    for i in range(len(data)):\n",
    "        if i == 0:\n",
    "            dataStr.append('{0:.16e}'.format(data[i]))\n",
    "        else:\n",
    "            dataStr.append('{0:.8e}'.format(data[i]))\n",
    "    dataStr = ','.join(dataStr) + '\\n'\n",
    "    return dataStr\n",
    "\n",
    "path = '/home/polarbear/PB2B_Backend/Cooldown_Runs/20170210-05b/Data/'"
   ]
  },
  {
   "cell_type": "code",
   "execution_count": 21,
   "metadata": {
    "collapsed": false
   },
   "outputs": [
    {
     "data": {
      "text/plain": [
       "['/home/polarbear/PB2B_Backend/Cooldown_Runs/20170210-05b/Data/20170212-105057.txt',\n",
       " '/home/polarbear/PB2B_Backend/Cooldown_Runs/20170210-05b/Data/20170212-105057RAW.txt',\n",
       " '/home/polarbear/PB2B_Backend/Cooldown_Runs/20170210-05b/Data/20170212-105711RAW.txt',\n",
       " '/home/polarbear/PB2B_Backend/Cooldown_Runs/20170210-05b/Data/20170212-105711.txt',\n",
       " '/home/polarbear/PB2B_Backend/Cooldown_Runs/20170210-05b/Data/20170212-105855.txt',\n",
       " '/home/polarbear/PB2B_Backend/Cooldown_Runs/20170210-05b/Data/20170212-105855RAW.txt',\n",
       " '/home/polarbear/PB2B_Backend/Cooldown_Runs/20170210-05b/Data/20170212-105900.txt',\n",
       " '/home/polarbear/PB2B_Backend/Cooldown_Runs/20170210-05b/Data/20170212-105900RAW.txt',\n",
       " '/home/polarbear/PB2B_Backend/Cooldown_Runs/20170210-05b/Data/20170212-111026RAW.txt',\n",
       " '/home/polarbear/PB2B_Backend/Cooldown_Runs/20170210-05b/Data/20170212-111026.txt',\n",
       " '/home/polarbear/PB2B_Backend/Cooldown_Runs/20170210-05b/Data/20170212-111459.txt',\n",
       " '/home/polarbear/PB2B_Backend/Cooldown_Runs/20170210-05b/Data/20170212-111459RAW.txt',\n",
       " '/home/polarbear/PB2B_Backend/Cooldown_Runs/20170210-05b/Data/20170212-112031RAW.txt',\n",
       " '/home/polarbear/PB2B_Backend/Cooldown_Runs/20170210-05b/Data/20170212-112031.txt',\n",
       " '/home/polarbear/PB2B_Backend/Cooldown_Runs/20170210-05b/Data/20170212-112039RAW.txt',\n",
       " '/home/polarbear/PB2B_Backend/Cooldown_Runs/20170210-05b/Data/20170212-112039.txt',\n",
       " '/home/polarbear/PB2B_Backend/Cooldown_Runs/20170210-05b/Data/20170212-112731RAW.txt',\n",
       " '/home/polarbear/PB2B_Backend/Cooldown_Runs/20170210-05b/Data/20170212-112731.txt',\n",
       " '/home/polarbear/PB2B_Backend/Cooldown_Runs/20170210-05b/Data/20170212-113917.txt',\n",
       " '/home/polarbear/PB2B_Backend/Cooldown_Runs/20170210-05b/Data/20170212-113917RAW.txt',\n",
       " '/home/polarbear/PB2B_Backend/Cooldown_Runs/20170210-05b/Data/20170212-114837RAW.txt',\n",
       " '/home/polarbear/PB2B_Backend/Cooldown_Runs/20170210-05b/Data/20170212-114837.txt',\n",
       " '/home/polarbear/PB2B_Backend/Cooldown_Runs/20170210-05b/Data/20170212-120930.txt',\n",
       " '/home/polarbear/PB2B_Backend/Cooldown_Runs/20170210-05b/Data/20170212-120930RAW.txt',\n",
       " '/home/polarbear/PB2B_Backend/Cooldown_Runs/20170210-05b/Data/20170212-120936.txt',\n",
       " '/home/polarbear/PB2B_Backend/Cooldown_Runs/20170210-05b/Data/20170212-120936RAW.txt',\n",
       " '/home/polarbear/PB2B_Backend/Cooldown_Runs/20170210-05b/Data/20170212-123825RAW.txt',\n",
       " '/home/polarbear/PB2B_Backend/Cooldown_Runs/20170210-05b/Data/20170212-123825.txt',\n",
       " '/home/polarbear/PB2B_Backend/Cooldown_Runs/20170210-05b/Data/20170212-123829.txt',\n",
       " '/home/polarbear/PB2B_Backend/Cooldown_Runs/20170210-05b/Data/20170212-123829RAW.txt',\n",
       " '/home/polarbear/PB2B_Backend/Cooldown_Runs/20170210-05b/Data/20170212-125005.txt',\n",
       " '/home/polarbear/PB2B_Backend/Cooldown_Runs/20170210-05b/Data/20170212-125005RAW.txt',\n",
       " '/home/polarbear/PB2B_Backend/Cooldown_Runs/20170210-05b/Data/20170212-125657.txt',\n",
       " '/home/polarbear/PB2B_Backend/Cooldown_Runs/20170210-05b/Data/20170212-125657RAW.txt',\n",
       " '/home/polarbear/PB2B_Backend/Cooldown_Runs/20170210-05b/Data/20170212-125716.txt',\n",
       " '/home/polarbear/PB2B_Backend/Cooldown_Runs/20170210-05b/Data/20170212-125716RAW.txt',\n",
       " '/home/polarbear/PB2B_Backend/Cooldown_Runs/20170210-05b/Data/20170212-130639RAW.txt',\n",
       " '/home/polarbear/PB2B_Backend/Cooldown_Runs/20170210-05b/Data/20170212-130639.txt']"
      ]
     },
     "execution_count": 21,
     "metadata": {},
     "output_type": "execute_result"
    }
   ],
   "source": [
    "fileNames = os.listdir(path)\n",
    "files = [path + s for s in fileNames]\n",
    "files = sorted(files, key = os.path.getctime)\n",
    "files"
   ]
  },
  {
   "cell_type": "code",
   "execution_count": 73,
   "metadata": {
    "collapsed": false
   },
   "outputs": [
    {
     "name": "stdout",
     "output_type": "stream",
     "text": [
      "loading from:  /home/polarbear/PB2B_Backend/Cooldown_Runs/20170210-05b/Data/20170212-105057.txt\n",
      "data shape:  (7, 28)\n",
      "loading from:  /home/polarbear/PB2B_Backend/Cooldown_Runs/20170210-05b/Data/20170212-105711.txt\n",
      "data shape:  (0,)\n",
      "loading from:  /home/polarbear/PB2B_Backend/Cooldown_Runs/20170210-05b/Data/20170212-105855.txt\n",
      "data shape:  (0,)\n",
      "loading from:  /home/polarbear/PB2B_Backend/Cooldown_Runs/20170210-05b/Data/20170212-105900.txt\n",
      "data shape:  (7, 28)\n",
      "loading from:  /home/polarbear/PB2B_Backend/Cooldown_Runs/20170210-05b/Data/20170212-111026.txt\n",
      "data shape:  (3, 28)\n",
      "loading from:  /home/polarbear/PB2B_Backend/Cooldown_Runs/20170210-05b/Data/20170212-111459.txt\n",
      "data shape:  (6, 28)\n",
      "loading from:  /home/polarbear/PB2B_Backend/Cooldown_Runs/20170210-05b/Data/20170212-112031.txt\n",
      "data shape:  (0,)\n",
      "loading from:  /home/polarbear/PB2B_Backend/Cooldown_Runs/20170210-05b/Data/20170212-112039.txt\n",
      "data shape:  (5, 28)\n",
      "loading from:  /home/polarbear/PB2B_Backend/Cooldown_Runs/20170210-05b/Data/20170212-112731.txt\n",
      "data shape:  (7, 28)\n",
      "loading from:  /home/polarbear/PB2B_Backend/Cooldown_Runs/20170210-05b/Data/20170212-113917.txt\n",
      "data shape:  (7, 28)\n",
      "loading from:  /home/polarbear/PB2B_Backend/Cooldown_Runs/20170210-05b/Data/20170212-114837.txt\n",
      "data shape:  (4, 28)\n",
      "loading from:  /home/polarbear/PB2B_Backend/Cooldown_Runs/20170210-05b/Data/20170212-120930.txt\n",
      "data shape:  (0,)\n",
      "loading from:  /home/polarbear/PB2B_Backend/Cooldown_Runs/20170210-05b/Data/20170212-120936.txt\n",
      "data shape:  (8, 28)\n",
      "loading from:  /home/polarbear/PB2B_Backend/Cooldown_Runs/20170210-05b/Data/20170212-123825.txt\n",
      "data shape:  (0,)\n",
      "loading from:  /home/polarbear/PB2B_Backend/Cooldown_Runs/20170210-05b/Data/20170212-123829.txt\n",
      "data shape:  (13, 28)\n",
      "loading from:  /home/polarbear/PB2B_Backend/Cooldown_Runs/20170210-05b/Data/20170212-125005.txt\n",
      "data shape:  (4, 28)\n",
      "loading from:  /home/polarbear/PB2B_Backend/Cooldown_Runs/20170210-05b/Data/20170212-125657.txt\n",
      "data shape:  (0,)\n",
      "loading from:  /home/polarbear/PB2B_Backend/Cooldown_Runs/20170210-05b/Data/20170212-125716.txt\n",
      "data shape:  (9, 28)\n",
      "loading from:  /home/polarbear/PB2B_Backend/Cooldown_Runs/20170210-05b/Data/20170212-130639.txt\n",
      "data shape:  (7056, 28)\n"
     ]
    }
   ],
   "source": [
    "data = np.array([])\n",
    "for f in files:\n",
    "    if f[-7:] != 'RAW.txt':\n",
    "        print 'loading from: ', f\n",
    "        newData = np.loadtxt(f, skiprows = 3, delimiter = ',')\n",
    "        print 'data shape: ', np.shape(newData)\n",
    "        if len(newData) != 0:\n",
    "            if len(data) == 0:\n",
    "                data = newData\n",
    "            else:\n",
    "                data = np.vstack((data, newData))"
   ]
  },
  {
   "cell_type": "code",
   "execution_count": 93,
   "metadata": {
    "collapsed": false
   },
   "outputs": [
    {
     "data": {
      "image/png": "[encoded data removed]",
      "text/plain": [
       "<matplotlib.figure.Figure at 0x7fd0c3c59110>"
      ]
     },
     "metadata": {},
     "output_type": "display_data"
    }
   ],
   "source": [
    "plt.figure()\n",
    "for i in range(1, np.shape(data)[1], 1):\n",
    "    if i != 6 or i != 7 or i != 8:\n",
    "        plt.plot(data[:, 0], data[:, i])"
   ]
  },
  {
   "cell_type": "code",
   "execution_count": 135,
   "metadata": {
    "collapsed": false
   },
   "outputs": [],
   "source": [
    "with open(files[-1], 'r') as f:\n",
    "    f.seek(66)\n",
    "    column_headers = f.readline()\n",
    "    \n",
    "headerStr = 'Date: ' + time.strftime(\"%Y/%m/%d\") + ', Time: ' + \\\n",
    "            time.strftime(\"%H:%M:%S\") + '\\n________________________________\\n' + column_headers\n",
    "\n",
    "masterFileName = time.strftime(\"%Y%m%d-%H%M%S\" + '_MASTER.txt')\n",
    "\n",
    "with open(masterFileName, 'w') as f:\n",
    "    f.write(headerStr)\n",
    "    f.write(data)"
   ]
  },
  {
   "cell_type": "code",
   "execution_count": 130,
   "metadata": {
    "collapsed": false
   },
   "outputs": [
    {
     "data": {
      "text/plain": [
       "'20170216-155943'"
      ]
     },
     "execution_count": 130,
     "metadata": {},
     "output_type": "execute_result"
    }
   ],
   "source": [
    "time.strftime(\"%Y%m%d-%H%M%S\")"
   ]
  },
  {
   "cell_type": "code",
   "execution_count": 134,
   "metadata": {
    "collapsed": false
   },
   "outputs": [
    {
     "data": {
      "text/plain": [
       "array([[  1.48692546e+09,   3.00782604e+02,   2.66637630e+02, ...,\n",
       "          2.89986000e+02,   2.89986000e+02,   4.75000000e+02],\n",
       "       [  1.48692551e+09,   2.94572050e+02,   2.94242213e+02, ...,\n",
       "          2.89986000e+02,   2.89986000e+02,   4.75000000e+02],\n",
       "       [  1.48692555e+09,   2.94588964e+02,   2.94225030e+02, ...,\n",
       "          2.89986000e+02,   2.89986000e+02,   4.75000000e+02],\n",
       "       ..., \n",
       "       [  1.48727214e+09,   3.69203817e-01,   3.37148840e-01, ...,\n",
       "          5.57196478e+01,   5.65431222e+01,   4.75000000e+02],\n",
       "       [  1.48727219e+09,   3.69430479e-01,   3.37175289e-01, ...,\n",
       "          5.57214484e+01,   5.65443226e+01,   4.75000000e+02],\n",
       "       [  1.48727224e+09,   3.69773045e-01,   3.37066729e-01, ...,\n",
       "          5.57220486e+01,   5.65455230e+01,   4.75000000e+02]])"
      ]
     },
     "execution_count": 134,
     "metadata": {},
     "output_type": "execute_result"
    }
   ],
   "source": [
    "data"
   ]
  },
  {
   "cell_type": "code",
   "execution_count": null,
   "metadata": {
    "collapsed": true
   },
   "outputs": [],
   "source": []
  }
 ],
 "metadata": {
  "kernelspec": {
   "display_name": "Python 2",
   "language": "python",
   "name": "python2"
  },
  "language_info": {
   "codemirror_mode": {
    "name": "ipython",
    "version": 2
   },
   "file_extension": ".py",
   "mimetype": "text/x-python",
   "name": "python",
   "nbconvert_exporter": "python",
   "pygments_lexer": "ipython2",
   "version": "2.7.11"
  }
 },
 "nbformat": 4,
 "nbformat_minor": 0
}
