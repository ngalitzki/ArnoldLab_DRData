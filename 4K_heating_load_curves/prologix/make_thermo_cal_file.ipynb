{
 "cells": [
  {
   "cell_type": "code",
   "execution_count": 7,
   "metadata": {
    "collapsed": true
   },
   "outputs": [],
   "source": [
    "import subprocess as sp\n",
    "import os, time, sys\n",
    "import numpy as np\n",
    "import matplotlib.pyplot as plt\n",
    "\n",
    "%matplotlib inline\n",
    "\n",
    "path = '/home/polarbear/PB2B_Backend/Cooldown_Runs/20170210-05b/'\n",
    "rawfile = path + 'Data/20170224-160108_RAW_MASTER.txt'\n",
    "kelvinfile = path + 'Data/20170224-155855_MASTER.txt'\n",
    "standardfile = path + 'Sensors/UCheadCernox.txt'"
   ]
  },
  {
   "cell_type": "code",
   "execution_count": 28,
   "metadata": {
    "collapsed": false
   },
   "outputs": [],
   "source": [
    "rawdata = np.loadtxt(rawfile, skiprows = 4, delimiter = ',')\n",
    "kelvindata = np.loadtxt(kelvinfile, skiprows = 3, delimiter = ',')\n",
    "standarddata = np.loadtxt(standardfile, skiprows = 3)"
   ]
  },
  {
   "cell_type": "code",
   "execution_count": 29,
   "metadata": {
    "collapsed": false
   },
   "outputs": [
    {
     "data": {
      "text/plain": [
       "array([[  8.36605260e-02,   1.49405000e+05],\n",
       "       [  9.56056870e-02,   8.10000000e+04],\n",
       "       [  1.12106759e-01,   4.05727000e+04],\n",
       "       [  1.27946576e-01,   2.49507000e+04],\n",
       "       [  1.45981945e-01,   1.67058000e+04],\n",
       "       [  1.61931924e-01,   1.26309000e+04],\n",
       "       [  1.81961825e-01,   9.37890000e+03],\n",
       "       [  2.04023647e-01,   7.15770000e+03],\n",
       "       [  2.29896539e-01,   5.53520000e+03],\n",
       "       [  2.59973868e-01,   4.33885000e+03],\n",
       "       [  2.89984806e-01,   3.54527000e+03],\n",
       "       [  3.09996831e-01,   3.15037000e+03],\n",
       "       [  3.30040043e-01,   2.83788000e+03],\n",
       "       [  3.67903837e-01,   2.38129000e+03],\n",
       "       [  4.17990851e-01,   1.96298000e+03],\n",
       "       [  4.75998669e-01,   1.63832000e+03],\n",
       "       [  5.35024514e-01,   1.40600000e+03],\n",
       "       [  6.09836979e-01,   1.19717000e+03],\n",
       "       [  6.84804405e-01,   1.04660000e+03],\n",
       "       [  7.65151071e-01,   9.26910000e+02],\n",
       "       [  8.55259154e-01,   8.26620000e+02],\n",
       "       [  9.50105734e-01,   7.45650000e+02],\n",
       "       [  1.04790955e+00,   6.79500000e+02],\n",
       "       [  1.15165506e+00,   6.22142366e+02],\n",
       "       [  1.20406259e+00,   5.98520994e+02],\n",
       "       [  1.29756564e+00,   5.62046779e+02],\n",
       "       [  1.39938005e+00,   5.28150418e+02],\n",
       "       [  1.59955253e+00,   4.75219862e+02],\n",
       "       [  1.79887337e+00,   4.35191858e+02],\n",
       "       [  1.99904323e+00,   4.03610349e+02],\n",
       "       [  2.19774305e+00,   3.78186651e+02],\n",
       "       [  2.39443635e+00,   3.57242431e+02],\n",
       "       [  2.59619732e+00,   3.39065395e+02],\n",
       "       [  2.79922572e+00,   3.23405552e+02],\n",
       "       [  2.99339679e+00,   3.10399312e+02],\n",
       "       [  3.19761639e+00,   2.98401903e+02],\n",
       "       [  3.39535294e+00,   2.88137482e+02],\n",
       "       [  3.59903561e+00,   2.78676250e+02],\n",
       "       [  3.80066493e+00,   2.70259047e+02],\n",
       "       [  4.00006923e+00,   2.62737889e+02],\n",
       "       [  4.20475432e+00,   2.55698047e+02],\n",
       "       [  4.66547504e+00,   2.42045183e+02],\n",
       "       [  5.05780122e+00,   2.32119439e+02],\n",
       "       [  5.55288633e+00,   2.21439204e+02],\n",
       "       [  6.25875644e+00,   2.08880016e+02],\n",
       "       [  7.06754834e+00,   1.97192330e+02],\n",
       "       [  8.07727723e+00,   1.85425345e+02],\n",
       "       [  9.09546132e+00,   1.75814725e+02],\n",
       "       [  1.01139456e+01,   1.67820940e+02],\n",
       "       [  1.11295861e+01,   1.61024487e+02],\n",
       "       [  1.21407271e+01,   1.55143931e+02],\n",
       "       [  1.31453009e+01,   1.49996006e+02],\n",
       "       [  1.41404764e+01,   1.45467508e+02],\n",
       "       [  1.51317195e+01,   1.41390109e+02],\n",
       "       [  1.61158214e+01,   1.37700499e+02],\n",
       "       [  1.71005789e+01,   1.34316275e+02],\n",
       "       [  1.80785963e+01,   1.31216716e+02],\n",
       "       [  1.90609549e+01,   1.28324246e+02],\n",
       "       [  2.00427358e+01,   1.25628642e+02],\n",
       "       [  2.11214865e+01,   1.22864961e+02],\n",
       "       [  2.27082404e+01,   1.19119535e+02],\n",
       "       [  2.43241449e+01,   1.15652406e+02],\n",
       "       [  2.59562157e+01,   1.12431866e+02],\n",
       "       [  2.75886126e+01,   1.09466238e+02],\n",
       "       [  2.92134153e+01,   1.06721729e+02],\n",
       "       [  3.10404181e+01,   1.03866251e+02],\n",
       "       [  3.31594230e+01,   1.00813380e+02],\n",
       "       [  3.61713325e+01,   9.68707689e+01],\n",
       "       [  3.91702622e+01,   9.33554970e+01],\n",
       "       [  4.21642773e+01,   9.01743743e+01],\n",
       "       [  4.51563304e+01,   8.72839511e+01],\n",
       "       [  4.81548610e+01,   8.46327661e+01],\n",
       "       [  5.01506812e+01,   8.29869119e+01],\n",
       "       [  5.51528573e+01,   7.92233582e+01],\n",
       "       [  6.01539856e+01,   7.58995456e+01],\n",
       "       [  6.51514133e+01,   7.29364300e+01],\n",
       "       [  7.01514547e+01,   7.02663193e+01],\n",
       "       [  7.51434408e+01,   6.78512866e+01],\n",
       "       [  8.01335056e+01,   6.56495673e+01],\n",
       "       [  8.51263823e+01,   6.36264130e+01],\n",
       "       [  9.01210022e+01,   6.17618469e+01],\n",
       "       [  9.51155915e+01,   6.00333031e+01],\n",
       "       [  1.00112537e+02,   5.84188644e+01],\n",
       "       [  1.10111079e+02,   5.55035762e+01],\n",
       "       [  1.20106253e+02,   5.29318979e+01],\n",
       "       [  1.30102034e+02,   5.06393763e+01],\n",
       "       [  1.40091682e+02,   4.85814607e+01],\n",
       "       [  1.50087027e+02,   4.67174302e+01],\n",
       "       [  1.60080543e+02,   4.50226034e+01],\n",
       "       [  1.70079974e+02,   4.34750849e+01],\n",
       "       [  1.80077730e+02,   4.20535004e+01],\n",
       "       [  1.90070185e+02,   4.07483700e+01],\n",
       "       [  2.00061637e+02,   3.95440606e+01],\n",
       "       [  2.10064385e+02,   3.84288659e+01],\n",
       "       [  2.20068057e+02,   3.73912534e+01],\n",
       "       [  2.30061788e+02,   3.64291508e+01],\n",
       "       [  2.40055928e+02,   3.55295649e+01],\n",
       "       [  2.50062609e+02,   3.46898888e+01],\n",
       "       [  2.60042688e+02,   3.39073041e+01],\n",
       "       [  2.70056551e+02,   3.31719228e+01],\n",
       "       [  2.80046639e+02,   3.24826485e+01],\n",
       "       [  2.90055218e+02,   3.18353473e+01],\n",
       "       [  3.00050101e+02,   3.12266762e+01],\n",
       "       [  3.10048866e+02,   3.06568356e+01],\n",
       "       [  3.15053457e+02,   3.03824315e+01],\n",
       "       [  3.20044171e+02,   3.01156782e+01],\n",
       "       [  3.26325440e+02,   2.97903894e+01],\n",
       "       [  3.31511351e+02,   2.95324643e+01]])"
      ]
     },
     "execution_count": 29,
     "metadata": {},
     "output_type": "execute_result"
    }
   ],
   "source": [
    "standarddata"
   ]
  },
  {
   "cell_type": "code",
   "execution_count": 36,
   "metadata": {
    "collapsed": false
   },
   "outputs": [],
   "source": [
    "temps = np.flipud(np.round(standarddata[:,0], decimals = 3))"
   ]
  },
  {
   "cell_type": "code",
   "execution_count": 37,
   "metadata": {
    "collapsed": false
   },
   "outputs": [
    {
     "data": {
      "text/plain": [
       "array([  3.31511000e+02,   3.26325000e+02,   3.20044000e+02,\n",
       "         3.15053000e+02,   3.10049000e+02,   3.00050000e+02,\n",
       "         2.90055000e+02,   2.80047000e+02,   2.70057000e+02,\n",
       "         2.60043000e+02,   2.50063000e+02,   2.40056000e+02,\n",
       "         2.30062000e+02,   2.20068000e+02,   2.10064000e+02,\n",
       "         2.00062000e+02,   1.90070000e+02,   1.80078000e+02,\n",
       "         1.70080000e+02,   1.60081000e+02,   1.50087000e+02,\n",
       "         1.40092000e+02,   1.30102000e+02,   1.20106000e+02,\n",
       "         1.10111000e+02,   1.00113000e+02,   9.51160000e+01,\n",
       "         9.01210000e+01,   8.51260000e+01,   8.01340000e+01,\n",
       "         7.51430000e+01,   7.01510000e+01,   6.51510000e+01,\n",
       "         6.01540000e+01,   5.51530000e+01,   5.01510000e+01,\n",
       "         4.81550000e+01,   4.51560000e+01,   4.21640000e+01,\n",
       "         3.91700000e+01,   3.61710000e+01,   3.31590000e+01,\n",
       "         3.10400000e+01,   2.92130000e+01,   2.75890000e+01,\n",
       "         2.59560000e+01,   2.43240000e+01,   2.27080000e+01,\n",
       "         2.11210000e+01,   2.00430000e+01,   1.90610000e+01,\n",
       "         1.80790000e+01,   1.71010000e+01,   1.61160000e+01,\n",
       "         1.51320000e+01,   1.41400000e+01,   1.31450000e+01,\n",
       "         1.21410000e+01,   1.11300000e+01,   1.01140000e+01,\n",
       "         9.09500000e+00,   8.07700000e+00,   7.06800000e+00,\n",
       "         6.25900000e+00,   5.55300000e+00,   5.05800000e+00,\n",
       "         4.66500000e+00,   4.20500000e+00,   4.00000000e+00,\n",
       "         3.80100000e+00,   3.59900000e+00,   3.39500000e+00,\n",
       "         3.19800000e+00,   2.99300000e+00,   2.79900000e+00,\n",
       "         2.59600000e+00,   2.39400000e+00,   2.19800000e+00,\n",
       "         1.99900000e+00,   1.79900000e+00,   1.60000000e+00,\n",
       "         1.39900000e+00,   1.29800000e+00,   1.20400000e+00,\n",
       "         1.15200000e+00,   1.04800000e+00,   9.50000000e-01,\n",
       "         8.55000000e-01,   7.65000000e-01,   6.85000000e-01,\n",
       "         6.10000000e-01,   5.35000000e-01,   4.76000000e-01,\n",
       "         4.18000000e-01,   3.68000000e-01,   3.30000000e-01,\n",
       "         3.10000000e-01,   2.90000000e-01,   2.60000000e-01,\n",
       "         2.30000000e-01,   2.04000000e-01,   1.82000000e-01,\n",
       "         1.62000000e-01,   1.46000000e-01,   1.28000000e-01,\n",
       "         1.12000000e-01,   9.60000000e-02,   8.40000000e-02])"
      ]
     },
     "execution_count": 37,
     "metadata": {},
     "output_type": "execute_result"
    }
   ],
   "source": [
    "temps"
   ]
  },
  {
   "cell_type": "code",
   "execution_count": 38,
   "metadata": {
    "collapsed": false
   },
   "outputs": [
    {
     "ename": "ValueError",
     "evalue": "operands could not be broadcast together with shapes (108,) (19631,) ",
     "output_type": "error",
     "traceback": [
      "\u001b[1;31m---------------------------------------------------------------------------\u001b[0m",
      "\u001b[1;31mValueError\u001b[0m                                Traceback (most recent call last)",
      "\u001b[1;32m<ipython-input-38-52baa27ed990>\u001b[0m in \u001b[0;36m<module>\u001b[1;34m()\u001b[0m\n\u001b[1;32m----> 1\u001b[1;33m \u001b[0mnp\u001b[0m\u001b[1;33m.\u001b[0m\u001b[0mwhere\u001b[0m\u001b[1;33m(\u001b[0m\u001b[0mtemps\u001b[0m \u001b[1;33m-\u001b[0m \u001b[0mnp\u001b[0m\u001b[1;33m.\u001b[0m\u001b[0mround\u001b[0m\u001b[1;33m(\u001b[0m\u001b[0mkelvindata\u001b[0m\u001b[1;33m[\u001b[0m\u001b[1;33m:\u001b[0m\u001b[1;33m,\u001b[0m\u001b[1;36m1\u001b[0m\u001b[1;33m]\u001b[0m\u001b[1;33m,\u001b[0m \u001b[0mdecimals\u001b[0m \u001b[1;33m=\u001b[0m \u001b[1;36m4\u001b[0m\u001b[1;33m)\u001b[0m \u001b[1;33m<\u001b[0m \u001b[1;36m.01\u001b[0m\u001b[1;33m*\u001b[0m\u001b[0mtemps\u001b[0m\u001b[1;33m)\u001b[0m\u001b[1;33m\u001b[0m\u001b[0m\n\u001b[0m",
      "\u001b[1;31mValueError\u001b[0m: operands could not be broadcast together with shapes (108,) (19631,) "
     ]
    }
   ],
   "source": [
    "np.where(temps - np.round(kelvindata[:,1], decimals = 4) < .01*temps)"
   ]
  },
  {
   "cell_type": "code",
   "execution_count": 35,
   "metadata": {
    "collapsed": false
   },
   "outputs": [
    {
     "data": {
      "text/plain": [
       "array([ 300.7826,  294.572 ,  294.589 , ...,  300.4629,  301.4899,\n",
       "        300.4785])"
      ]
     },
     "execution_count": 35,
     "metadata": {},
     "output_type": "execute_result"
    }
   ],
   "source": [
    "np.round(kelvindata[:,1], decimals = 4)"
   ]
  },
  {
   "cell_type": "code",
   "execution_count": 43,
   "metadata": {
    "collapsed": false
   },
   "outputs": [
    {
     "data": {
      "text/plain": [
       "(-10000, 100000)"
      ]
     },
     "execution_count": 43,
     "metadata": {},
     "output_type": "execute_result"
    },
    {
     "data": {
      "image/png": "[encoded data removed]",
      "text/plain": [
       "<matplotlib.figure.Figure at 0x7fe060d25dd0>"
      ]
     },
     "metadata": {},
     "output_type": "display_data"
    }
   ],
   "source": [
    "plt.plot(rawdata[:,0], rawdata[:, 5])\n",
    "plt.ylim((-10000,100000))"
   ]
  },
  {
   "cell_type": "code",
   "execution_count": null,
   "metadata": {
    "collapsed": true
   },
   "outputs": [],
   "source": []
  }
 ],
 "metadata": {
  "kernelspec": {
   "display_name": "Python 2",
   "language": "python",
   "name": "python2"
  },
  "language_info": {
   "codemirror_mode": {
    "name": "ipython",
    "version": 2
   },
   "file_extension": ".py",
   "mimetype": "text/x-python",
   "name": "python",
   "nbconvert_exporter": "python",
   "pygments_lexer": "ipython2",
   "version": "2.7.11"
  }
 },
 "nbformat": 4,
 "nbformat_minor": 0
}
