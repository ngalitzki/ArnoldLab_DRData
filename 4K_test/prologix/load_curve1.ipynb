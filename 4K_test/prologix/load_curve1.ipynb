{
 "cells": [
  {
   "cell_type": "code",
   "execution_count": 18,
   "metadata": {
    "collapsed": false
   },
   "outputs": [],
   "source": [
    "import numpy as np\n",
    "import time\n",
    "from prologixInterface import prologixInterface"
   ]
  },
  {
   "cell_type": "code",
   "execution_count": 19,
   "metadata": {
    "collapsed": false
   },
   "outputs": [
    {
     "name": "stdout",
     "output_type": "stream",
     "text": [
      "Voltages to set: [  0.          10.0895986   14.26884719  17.47569741  20.17919721\n",
      "  22.56102835  24.71436829  26.69456874  28.53769437  30.26879581\n",
      "  31.90611227  33.46341286  34.95139482  36.37856512  37.75182115\n",
      "  39.07684737  40.35839442  41.60048077  42.80654156  43.9795407\n",
      "  45.12205669]\n"
     ]
    }
   ],
   "source": [
    "MP_4K_R = 1018.\n",
    "top_4K_R = 1028.\n",
    "top_50K_R = 1030.\n",
    "MP_4K_pow = np.linspace(0, 2, 21)\n",
    "MP_4K_volt = np.sqrt(MP_4K_pow*MP_4K_R)\n",
    "print 'Voltages to set:', MP_4K_volt"
   ]
  },
  {
   "cell_type": "code",
   "execution_count": 20,
   "metadata": {
    "collapsed": false
   },
   "outputs": [
    {
     "name": "stdout",
     "output_type": "stream",
     "text": [
      "CH 1 = 0 V\n",
      "CH 2 = 0 V\n",
      "CH 1 = 0.0 V\n",
      "Total voltage is 0.0\n",
      "CH 1 = 10.0895986045 V\n",
      "Total voltage is 10.0895986045\n",
      "CH 1 = 14.2688471854 V\n",
      "Total voltage is 14.2688471854\n",
      "CH 1 = 17.475697411 V\n",
      "Total voltage is 17.475697411\n",
      "CH 1 = 20.179197209 V\n",
      "Total voltage is 20.179197209\n",
      "CH 1 = 22.5610283454 V\n",
      "Total voltage is 22.5610283454\n",
      "CH 1 = 24.7143682905 V\n",
      "Total voltage is 24.7143682905\n",
      "CH 1 = 25 V\n",
      "CH 2 = 1.69456873598 V\n",
      "Total voltage is 26.694568736\n",
      "CH 1 = 25 V\n",
      "CH 2 = 3.53769437078 V\n",
      "Total voltage is 28.5376943708\n",
      "CH 1 = 25 V\n",
      "CH 2 = 5.26879581351 V\n",
      "Total voltage is 30.2687958135\n",
      "CH 1 = 25 V\n",
      "CH 2 = 6.90611226709 V\n",
      "Total voltage is 31.9061122671\n",
      "CH 1 = 25 V\n",
      "CH 2 = 8.46341285643 V\n",
      "Total voltage is 33.4634128564\n",
      "CH 1 = 25 V\n",
      "CH 2 = 9.95139482195 V\n",
      "Total voltage is 34.951394822\n",
      "CH 1 = 25 V\n",
      "CH 2 = 11.3785651174 V\n",
      "Total voltage is 36.3785651174\n",
      "CH 1 = 25 V\n",
      "CH 2 = 12.7518211481 V\n",
      "Total voltage is 37.7518211481\n",
      "CH 1 = 25 V\n",
      "CH 2 = 14.0768473652 V\n",
      "Total voltage is 39.0768473652\n",
      "CH 1 = 25 V\n",
      "CH 2 = 15.358394418 V\n",
      "Total voltage is 40.358394418\n",
      "CH 1 = 25 V\n",
      "CH 2 = 16.6004807665 V\n",
      "Total voltage is 41.6004807665\n",
      "CH 1 = 25 V\n",
      "CH 2 = 17.8065415562 V\n",
      "Total voltage is 42.8065415562\n",
      "CH 1 = 25 V\n",
      "CH 2 = 18.9795406979 V\n",
      "Total voltage is 43.9795406979\n",
      "CH 1 = 25 V\n",
      "CH 2 = 20.1220566907 V\n",
      "Total voltage is 45.1220566907\n",
      "CH 1 = 0 V\n",
      "CH 2 = 0 V\n"
     ]
    }
   ],
   "source": [
    "pro = prologixInterface()\n",
    "pro.setKeithChannel(1)\n",
    "pro.setKeithVolt(0)\n",
    "pro.setKeithChannel(2)\n",
    "pro.setKeithVolt(0)\n",
    "pro.toggleKeithOutput(1)\n",
    "time.sleep(600)\n",
    "for volt in MP_4K_volt:\n",
    "    if volt < 25:\n",
    "        pro.setKeithChannel(1)\n",
    "        pro.setKeithVolt(volt)\n",
    "    else:\n",
    "        pro.setKeithChannel(1)\n",
    "        pro.setKeithVolt(25)\n",
    "        pro.setKeithChannel(2)\n",
    "        pro.setKeithVolt(volt - 25)\n",
    "    print 'Total voltage is', volt\n",
    "    time.sleep(600)\n",
    "pro.setKeithChannel(1)\n",
    "pro.setKeithVolt(0)\n",
    "pro.setKeithChannel(2)\n",
    "pro.setKeithVolt(0)\n",
    "pro.toggleKeithOutput(0)"
   ]
  },
  {
   "cell_type": "code",
   "execution_count": 11,
   "metadata": {
    "collapsed": false
   },
   "outputs": [
    {
     "data": {
      "text/plain": [
       "time.struct_time(tm_year=2016, tm_mon=11, tm_mday=1, tm_hour=15, tm_min=19, tm_sec=50, tm_wday=1, tm_yday=306, tm_isdst=1)"
      ]
     },
     "execution_count": 11,
     "metadata": {},
     "output_type": "execute_result"
    }
   ],
   "source": [
    "time.localtime()"
   ]
  },
  {
   "cell_type": "code",
   "execution_count": null,
   "metadata": {
    "collapsed": true
   },
   "outputs": [],
   "source": []
  }
 ],
 "metadata": {
  "kernelspec": {
   "display_name": "Python 2",
   "language": "python",
   "name": "python2"
  },
  "language_info": {
   "codemirror_mode": {
    "name": "ipython",
    "version": 2
   },
   "file_extension": ".py",
   "mimetype": "text/x-python",
   "name": "python",
   "nbconvert_exporter": "python",
   "pygments_lexer": "ipython2",
   "version": "2.7.11"
  }
 },
 "nbformat": 4,
 "nbformat_minor": 0
}
