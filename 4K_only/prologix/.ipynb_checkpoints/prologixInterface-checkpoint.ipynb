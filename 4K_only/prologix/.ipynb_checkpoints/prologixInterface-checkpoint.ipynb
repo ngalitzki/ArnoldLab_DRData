{
 "cells": [
  {
   "cell_type": "code",
   "execution_count": 1,
   "metadata": {
    "collapsed": false
   },
   "outputs": [],
   "source": [
    "import time\n",
    "import subprocess as sp\n",
    "import socket as s"
   ]
  },
  {
   "cell_type": "code",
   "execution_count": 2,
   "metadata": {
    "collapsed": false,
    "scrolled": true
   },
   "outputs": [],
   "source": [
    "ip = '192.168.1.111'\n",
    "escapeString = 'xYzZyX'"
   ]
  },
  {
   "cell_type": "code",
   "execution_count": 3,
   "metadata": {
    "collapsed": false
   },
   "outputs": [],
   "source": [
    "class prologixInterface():\n",
    "\n",
    "    def __init__(self):\n",
    "        self.ip = ip\n",
    "        self.escapeString = escapeString\n",
    "        self.prologix = self.connSocket()\n",
    "        \n",
    "    def connSocket(self):\n",
    "        prologix = s.socket(s.AF_INET, s.SOCK_STREAM)\n",
    "        prologix.connect((ip, 1234))\n",
    "        prologix.send('++mode 1\\n')\n",
    "        return prologix\n",
    "        \n",
    "    def connGPIBaddr(self, GPIBaddr):\n",
    "        self.prologix.send('++addr ' + str(GPIBaddr) + '\\n')\n",
    "        \n",
    "    def writeGPIB(self, msg):\n",
    "        self.prologix.send(msg + '\\n')\n",
    "        \n",
    "    def getGPIBdevID(self):\n",
    "        self.writeGPIB('*IDN?')\n",
    "        return self.prologix.recv(128)\n",
    "    \n",
    "    def setKeithChannel(self, channel):\n",
    "        self.writeGPIB('INST:SEL CH' + str(channel))\n",
    "        self.activeChannel = channel\n",
    "        \n",
    "    def toggleKeithOutput(self, state):  # state: 1 = 'on', 0 = 'off'\n",
    "        self.writeGPIB('OUTP ' + str(state))\n",
    "    \n",
    "    def keithGetVolt(self, channel):\n",
    "        self.writeGPIB('MEAS:VOLT? CH' + str(channel))\n",
    "        return self.prologix.recv(128)\n",
    "    \n",
    "    def keithGetCurrent(self, channel):\n",
    "        if channel == 'ALL':\n",
    "            self.writeGPIB('MEAS:CURR? ALL')\n",
    "        else:\n",
    "            self.writeGPIB('MEAS:CURR? CH' + str(channel))\n",
    "        return self.prologix.recv(128)\n",
    "        \n",
    "    def keithSetVolt(self, v):\n",
    "        self.writeGPIB('VOLT ' + str(v))\n",
    "        print 'CH' + str(self.activeChannel) + '=' + str(self.keithGetVolt(self.activeChannel)) + 'V'"
   ]
  },
  {
   "cell_type": "code",
   "execution_count": 4,
   "metadata": {
    "collapsed": true
   },
   "outputs": [],
   "source": [
    "prologix = s.socket(s.AF_INET, s.SOCK_STREAM)\n",
    "prologix.connect((ip, 1234))"
   ]
  },
  {
   "cell_type": "code",
   "execution_count": 5,
   "metadata": {
    "collapsed": false
   },
   "outputs": [
    {
     "data": {
      "text/plain": [
       "9"
      ]
     },
     "execution_count": 5,
     "metadata": {},
     "output_type": "execute_result"
    }
   ],
   "source": [
    "prologix.send('++addr 2\\n')"
   ]
  },
  {
   "cell_type": "code",
   "execution_count": 6,
   "metadata": {
    "collapsed": false
   },
   "outputs": [
    {
     "name": "stdout",
     "output_type": "stream",
     "text": [
      "Keithley instruments, 2230G-30-1, 9100433, 1.16-1.04\n",
      "\n"
     ]
    }
   ],
   "source": [
    "prologix.send('++addr 2\\n')\n",
    "prologix.send('*IDN?\\n')\n",
    "print prologix.recv(128)"
   ]
  },
  {
   "cell_type": "code",
   "execution_count": 55,
   "metadata": {
    "collapsed": false
   },
   "outputs": [
    {
     "name": "stdout",
     "output_type": "stream",
     "text": [
      "CH1\n",
      "\n"
     ]
    }
   ],
   "source": [
    "prologix.send('INST:SEL?\\n')\n",
    "print prologix.recv(128)"
   ]
  },
  {
   "cell_type": "code",
   "execution_count": 57,
   "metadata": {
    "collapsed": false
   },
   "outputs": [
    {
     "name": "stdout",
     "output_type": "stream",
     "text": [
      "CH2\n",
      "\n"
     ]
    }
   ],
   "source": [
    "prologix.send('inst:sel CH' + str(2) + '\\n')\n",
    "prologix.send('INST:SEL?\\n')\n",
    "print prologix.recv(128)"
   ]
  },
  {
   "cell_type": "code",
   "execution_count": 42,
   "metadata": {
    "collapsed": false
   },
   "outputs": [
    {
     "data": {
      "text/plain": [
       "';alksd'"
      ]
     },
     "execution_count": 42,
     "metadata": {},
     "output_type": "execute_result"
    }
   ],
   "source": [
    "';alksd'.format(1)"
   ]
  },
  {
   "cell_type": "code",
   "execution_count": 43,
   "metadata": {
    "collapsed": true
   },
   "outputs": [],
   "source": [
    "format?"
   ]
  },
  {
   "cell_type": "code",
   "execution_count": 8,
   "metadata": {
    "collapsed": false
   },
   "outputs": [
    {
     "name": "stdout",
     "output_type": "stream",
     "text": [
      "0.00734901\n",
      "\n"
     ]
    }
   ],
   "source": [
    "prologix.send('MEAS:CURR? CH' + str(2) + '\\n')\n",
    "print prologix.recv(128)"
   ]
  },
  {
   "cell_type": "code",
   "execution_count": 9,
   "metadata": {
    "collapsed": false
   },
   "outputs": [
    {
     "ename": "AttributeError",
     "evalue": "'_socketobject' object has no attribute 'connGPIBaddr'",
     "output_type": "error",
     "traceback": [
      "\u001b[1;31m---------------------------------------------------------------------------\u001b[0m",
      "\u001b[1;31mAttributeError\u001b[0m                            Traceback (most recent call last)",
      "\u001b[1;32m<ipython-input-9-a67cc09bb3c4>\u001b[0m in \u001b[0;36m<module>\u001b[1;34m()\u001b[0m\n\u001b[1;32m----> 1\u001b[1;33m \u001b[0mprologix\u001b[0m\u001b[1;33m.\u001b[0m\u001b[0mconnGPIBaddr\u001b[0m\u001b[1;33m(\u001b[0m\u001b[1;36m2\u001b[0m\u001b[1;33m)\u001b[0m\u001b[1;33m\u001b[0m\u001b[0m\n\u001b[0m",
      "\u001b[1;31mAttributeError\u001b[0m: '_socketobject' object has no attribute 'connGPIBaddr'"
     ]
    }
   ],
   "source": [
    "prologix.connGPIBaddr(2)"
   ]
  },
  {
   "cell_type": "code",
   "execution_count": null,
   "metadata": {
    "collapsed": true
   },
   "outputs": [],
   "source": []
  }
 ],
 "metadata": {
  "kernelspec": {
   "display_name": "Python 2",
   "language": "python",
   "name": "python2"
  },
  "language_info": {
   "codemirror_mode": {
    "name": "ipython",
    "version": 2
   },
   "file_extension": ".py",
   "mimetype": "text/x-python",
   "name": "python",
   "nbconvert_exporter": "python",
   "pygments_lexer": "ipython2",
   "version": "2.7.11"
  }
 },
 "nbformat": 4,
 "nbformat_minor": 0
}
