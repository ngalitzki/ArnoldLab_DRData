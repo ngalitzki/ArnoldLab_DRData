{
 "cells": [
  {
   "cell_type": "markdown",
   "metadata": {},
   "source": [
    "Run nflci --list to get the IP address of the ethernet bridge."
   ]
  },
  {
   "cell_type": "code",
   "execution_count": 10,
   "metadata": {
    "collapsed": false
   },
   "outputs": [
    {
     "name": "stdout",
     "output_type": "stream",
     "text": [
      "Searching through network interface: 192.168.1.2\n",
      "..............\n",
      "Searching through network interface: 132.239.66.120\n",
      "..........\n",
      "\n",
      "Found 1 Prologix GPIB-ETHERNET Controller(s).\n",
      "\n",
      "Ethernet Address: 00-21-69-01-1A-39\n",
      "Hardware: 1.1.0.0 Bootloader: 1.2.0.0 Application: 1.6.1.0\n",
      "Uptime: 17 days 22 hours 34 minutes 10 seconds\n",
      "Dynamic IP\n",
      "IP Address: 192.168.1.203 Mask: 255.255.255.0 Gateway: 192.168.1.47\n",
      "Mode: Application\n",
      "\n"
     ]
    }
   ],
   "source": [
    "!dist/nfcli --list"
   ]
  },
  {
   "cell_type": "code",
   "execution_count": 13,
   "metadata": {
    "collapsed": false
   },
   "outputs": [],
   "source": [
    "import socket\n",
    "s = socket.socket(socket.AF_INET, socket.SOCK_STREAM)\n",
    "s.connect(('192.168.1.203',1234)) # Prologix bridges always listen on TCP port 1234"
   ]
  },
  {
   "cell_type": "markdown",
   "metadata": {},
   "source": [
    "An unescaped ++ adresses the ethernet bridge directly"
   ]
  },
  {
   "cell_type": "code",
   "execution_count": null,
   "metadata": {
    "collapsed": false
   },
   "outputs": [],
   "source": [
    "s.send('++ver\\n')\n",
    "print s.recv(128)\n",
    "\n",
    "# Put bridge in controller mode. Note that this isn't a query, so we won't get a response\n",
    "s.send('++mode 1\\n') \n",
    "s.send('++mode\\n') # this is a query\n",
    "print s.recv(128)\n",
    "\n",
    "# use 'Read-After-Write' mode, which spares us having to ++read all the time to get a\n",
    "# response back from GPIB devices\n",
    "n = s.send('++auto 1\\n')"
   ]
  },
  {
   "cell_type": "code",
   "execution_count": 36,
   "metadata": {
    "collapsed": false
   },
   "outputs": [
    {
     "name": "stdout",
     "output_type": "stream",
     "text": [
      "Keithley instruments, 2230G-30-1, 9100433, 1.16-1.04\n",
      "\n"
     ]
    }
   ],
   "source": [
    "s.send('++addr 2\\n') # set target GPIB address\n",
    "\n",
    "s.send('*IDN?\\n') # anything without an opening ++ goes straight to the current target GPIB address\n",
    "print s.recv(128)"
   ]
  },
  {
   "cell_type": "code",
   "execution_count": null,
   "metadata": {
    "collapsed": true
   },
   "outputs": [],
   "source": []
  }
 ],
 "metadata": {
  "kernelspec": {
   "display_name": "Python 2",
   "language": "python",
   "name": "python2"
  },
  "language_info": {
   "codemirror_mode": {
    "name": "ipython",
    "version": 2
   },
   "file_extension": ".py",
   "mimetype": "text/x-python",
   "name": "python",
   "nbconvert_exporter": "python",
   "pygments_lexer": "ipython2",
   "version": "2.7.12"
  }
 },
 "nbformat": 4,
 "nbformat_minor": 0
}
