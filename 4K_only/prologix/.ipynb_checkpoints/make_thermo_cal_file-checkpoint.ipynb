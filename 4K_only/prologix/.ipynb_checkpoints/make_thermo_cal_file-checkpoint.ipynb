{
 "cells": [
  {
   "cell_type": "code",
   "execution_count": 7,
   "metadata": {
    "collapsed": true
   },
   "outputs": [],
   "source": [
    "import subprocess as sp\n",
    "import os, time, sys\n",
    "import numpy as np\n",
    "import matplotlib.pyplot as plt\n",
    "\n",
    "%matplotlib inline\n",
    "\n",
    "path = '/home/polarbear/PB2B_Backend/Cooldown_Runs/20170210-05b/'\n",
    "rawfile = path + 'Data/20170224-160108_RAW_MASTER.txt'\n",
    "kelvinfile = path + 'Data/20170224-155855_MASTER.txt'\n",
    "standardfile = path + 'Sensors/UCheadCernox.txt'"
   ]
  },
  {
   "cell_type": "code",
   "execution_count": 5,
   "metadata": {
    "collapsed": false
   },
   "outputs": [],
   "source": [
    "rawdata = np.loadtxt(rawfile, skiprows = 4, delimiter = ',')\n",
    "kelvinwdata = np.loadtxt(kelvinfile, skiprows = 3, delimiter = ',')\n",
    "standarddata = np.loadtxt(standardfile, skiprows = 3)"
   ]
  },
  {
   "cell_type": "code",
   "execution_count": null,
   "metadata": {
    "collapsed": true
   },
   "outputs": [],
   "source": []
  }
 ],
 "metadata": {
  "kernelspec": {
   "display_name": "Python 2",
   "language": "python",
   "name": "python2"
  },
  "language_info": {
   "codemirror_mode": {
    "name": "ipython",
    "version": 2
   },
   "file_extension": ".py",
   "mimetype": "text/x-python",
   "name": "python",
   "nbconvert_exporter": "python",
   "pygments_lexer": "ipython2",
   "version": "2.7.11"
  }
 },
 "nbformat": 4,
 "nbformat_minor": 0
}
