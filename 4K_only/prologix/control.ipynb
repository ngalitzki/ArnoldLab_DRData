{
 "cells": [
  {
   "cell_type": "markdown",
   "metadata": {
    "deletable": true,
    "editable": true
   },
   "source": [
    "Run nflci --list to get the IP address of the ethernet bridge."
   ]
  },
  {
   "cell_type": "code",
   "execution_count": 17,
   "metadata": {
    "collapsed": false,
    "deletable": true,
    "editable": true
   },
   "outputs": [
    {
     "name": "stdout",
     "output_type": "stream",
     "text": [
      "Searching through network interface: 132.239.66.120\n",
      "..........\n",
      "\n",
      "Found 0 Prologix GPIB-ETHERNET Controller(s).\n"
     ]
    }
   ],
   "source": [
    "!dist/nfcli --list"
   ]
  },
  {
   "cell_type": "code",
   "execution_count": 16,
   "metadata": {
    "collapsed": false,
    "deletable": true,
    "editable": true
   },
   "outputs": [],
   "source": [
    "import socket\n",
    "s = socket.socket(socket.AF_INET, socket.SOCK_STREAM)\n",
    "s.connect(('192.168.1.111',1234)) # Prologix bridges always listen on TCP port 1234"
   ]
  },
  {
   "cell_type": "markdown",
   "metadata": {
    "deletable": true,
    "editable": true
   },
   "source": [
    "An unescaped ++ adresses the ethernet bridge directly"
   ]
  },
  {
   "cell_type": "code",
   "execution_count": 22,
   "metadata": {
    "collapsed": false,
    "deletable": true,
    "editable": true
   },
   "outputs": [
    {
     "name": "stdout",
     "output_type": "stream",
     "text": [
      "Prologix GPIB-ETHERNET Controller version 01.06.01.00\r\n",
      "\n",
      "1\r\n",
      "\n"
     ]
    }
   ],
   "source": [
    "s.send('++ver\\n')\n",
    "print s.recv(128)\n",
    "\n",
    "# Put bridge in controller mode. Note that this isn't a query, so we won't get a response\n",
    "s.send('++mode 1\\n') \n",
    "s.send('++mode\\n') # this is a query\n",
    "print s.recv(128)\n",
    "\n",
    "# use 'Read-After-Write' mode, which spares us having to ++read all the time to get a\n",
    "# response back from GPIB devices\n",
    "n = s.send('++auto 1\\n')"
   ]
  },
  {
   "cell_type": "code",
   "execution_count": null,
   "metadata": {
    "collapsed": false,
    "deletable": true,
    "editable": true
   },
   "outputs": [],
   "source": [
    "s.send('++addr 2\\n') # set target GPIB address\n",
    "\n",
    "s.send('*IDN?\\n') # anything without an opening ++ goes straight to the current target GPIB address\n",
    "print s.recv(128)"
   ]
  },
  {
   "cell_type": "code",
   "execution_count": null,
   "metadata": {
    "collapsed": true,
    "deletable": true,
    "editable": true
   },
   "outputs": [],
   "source": []
  }
 ],
 "metadata": {
  "kernelspec": {
   "display_name": "Python 2",
   "language": "python",
   "name": "python2"
  },
  "language_info": {
   "codemirror_mode": {
    "name": "ipython",
    "version": 2
   },
   "file_extension": ".py",
   "mimetype": "text/x-python",
   "name": "python",
   "nbconvert_exporter": "python",
   "pygments_lexer": "ipython2",
   "version": "2.7.6"
  }
 },
 "nbformat": 4,
 "nbformat_minor": 0
}
