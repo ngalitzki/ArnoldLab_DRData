{
 "cells": [
  {
   "cell_type": "code",
   "execution_count": 18,
   "metadata": {
    "collapsed": false
   },
   "outputs": [
    {
     "name": "stdout",
     "output_type": "stream",
     "text": [
      "Prologix GPIB-ETHERNET Controller version 01.06.01.00\n",
      "\n",
      "Auto mode:1\n",
      "\n",
      "Current GPIB instrument: Keithley instruments 2230G-30-1\n",
      "Current device ID:  9010709\n",
      "Keithely 9100433 = GPIB-1\n",
      "Keithely 9010709 = GPIB-2\n",
      "Keithley 9102893 = GPIB-3\n"
     ]
    }
   ],
   "source": [
    "import numpy as np\n",
    "import time\n",
    "from prologixInterface import prologixInterface\n",
    "pro=prologixInterface()"
   ]
  },
  {
   "cell_type": "code",
   "execution_count": 19,
   "metadata": {
    "collapsed": false
   },
   "outputs": [
    {
     "name": "stdout",
     "output_type": "stream",
     "text": [
      "V: [ 0.          0.81547532  1.15325626  1.41244469  1.63095064  1.82345825\n",
      "  1.99749844  2.1575449   2.30651252  2.44642596  2.57875939]\n"
     ]
    }
   ],
   "source": [
    "booster_r = 26.6e3\n",
    "booster_pow = np.linspace(0,250e-6, 11)\n",
    "booster_volt = np.sqrt(booster_pow*booster_r)\n",
    "print 'V:', booster_volt"
   ]
  },
  {
   "cell_type": "code",
   "execution_count": 20,
   "metadata": {
    "collapsed": false
   },
   "outputs": [
    {
     "name": "stdout",
     "output_type": "stream",
     "text": [
      "Connected to GPIB-1\n",
      "Keithley instruments, 2230G-30-1, 9100433, 1.16-1.04\n",
      "Active channel: CH2\n",
      "CH1 is active\n"
     ]
    },
    {
     "data": {
      "text/plain": [
       "'0.000836372'"
      ]
     },
     "execution_count": 20,
     "metadata": {},
     "output_type": "execute_result"
    }
   ],
   "source": [
    "pro.connGPIBaddr(1)\n",
    "pro.setKeithChannel(1)\n",
    "pro.getKeithVolt(1)"
   ]
  },
  {
   "cell_type": "code",
   "execution_count": 23,
   "metadata": {
    "collapsed": false
   },
   "outputs": [
    {
     "name": "stdout",
     "output_type": "stream",
     "text": [
      "V set: 0.0\n",
      "V set: 0.815475321515\n",
      "V set: 1.15325625947\n",
      "V set: 1.41244468918\n",
      "V set: 1.63095064303\n",
      "V set: 1.82345825288\n",
      "V set: 1.99749843554\n",
      "V set: 2.15754490104\n",
      "V set: 2.30651251893\n",
      "V set: 2.44642596455\n",
      "V set: 2.57875939165\n"
     ]
    }
   ],
   "source": [
    "for v in booster_volt:\n",
    "    pro.setKeithVolt(v)\n",
    "    print 'V set:', v\n",
    "    time.sleep(900)"
   ]
  },
  {
   "cell_type": "code",
   "execution_count": 22,
   "metadata": {
    "collapsed": false
   },
   "outputs": [],
   "source": [
    "pro.setKeithVolt(0)"
   ]
  },
  {
   "cell_type": "code",
   "execution_count": null,
   "metadata": {
    "collapsed": true
   },
   "outputs": [],
   "source": []
  }
 ],
 "metadata": {
  "kernelspec": {
   "display_name": "Python 2",
   "language": "python",
   "name": "python2"
  },
  "language_info": {
   "codemirror_mode": {
    "name": "ipython",
    "version": 2
   },
   "file_extension": ".py",
   "mimetype": "text/x-python",
   "name": "python",
   "nbconvert_exporter": "python",
   "pygments_lexer": "ipython2",
   "version": "2.7.11"
  }
 },
 "nbformat": 4,
 "nbformat_minor": 0
}
